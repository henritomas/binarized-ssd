{
 "cells": [
  {
   "cell_type": "markdown",
   "metadata": {},
   "source": [
    "# SSD Evaluation Tutorial\n",
    "\n",
    "This is a brief tutorial that explains how compute the average precisions for any trained SSD model using the `Evaluator` class. The `Evaluator` computes the average precisions according to the Pascal VOC pre-2010 or post-2010 detection evaluation algorithms. You can find details about these computation methods [here](http://host.robots.ox.ac.uk/pascal/VOC/voc2012/htmldoc/devkit_doc.html#sec:ap).\n",
    "\n",
    "As an example we'll evaluate an SSD300 on the Pascal VOC 2007 `test` dataset, but note that the `Evaluator` works for any SSD model and any dataset that is compatible with the `DataGenerator`. If you would like to run the evaluation on a different model and/or dataset, the procedure is analogous to what is shown below, you just have to build the appropriate model and load the relevant dataset.\n",
    "\n",
    "Note: I that in case you would like to evaluate a model on MS COCO, I would recommend to follow the [MS COCO evaluation notebook](https://github.com/pierluigiferrari/ssd_keras/blob/master/ssd300_evaluation_COCO.ipynb) instead, because it can produce the results format required by the MS COCO evaluation server and uses the official MS COCO evaluation code, which computes the mAP slightly differently from the Pascal VOC method.\n",
    "\n",
    "Note: In case you want to evaluate any of the provided trained models, make sure that you build the respective model with the correct set of scaling factors to reproduce the official results. The models that were trained on MS COCO and fine-tuned on Pascal VOC require the MS COCO scaling factors, not the Pascal VOC scaling factors."
   ]
  },
  {
   "cell_type": "code",
   "execution_count": 1,
   "metadata": {},
   "outputs": [
    {
     "name": "stderr",
     "output_type": "stream",
     "text": [
      "Using TensorFlow backend.\n"
     ]
    }
   ],
   "source": [
    "from tensorflow.keras.optimizers import Adam\n",
    "from tensorflow.keras.callbacks import ModelCheckpoint, EarlyStopping, ReduceLROnPlateau, TerminateOnNaN, CSVLogger\n",
    "from tensorflow.keras import backend as K\n",
    "from tensorflow.keras.models import load_model\n",
    "from math import ceil\n",
    "import numpy as np\n",
    "from matplotlib import pyplot as plt\n",
    "\n",
    "import larq as lq\n",
    "\n",
    "from models.tensorflow_keras_ssd7 import build_model\n",
    "from keras_loss_function.keras_ssd_loss import SSDLoss\n",
    "from keras_layers.tensorflow_keras_layer_AnchorBoxes import AnchorBoxes\n",
    "from keras_layers.tensorflow_keras_layer_DecodeDetections import DecodeDetections\n",
    "from keras_layers.keras_layer_DecodeDetectionsFast import DecodeDetectionsFast\n",
    "from keras_layers.keras_layer_L2Normalization import L2Normalization\n",
    "\n",
    "\n",
    "from data_generator.object_detection_2d_data_generator import DataGenerator\n",
    "from eval_utils.average_precision_evaluator import Evaluator\n",
    "\n",
    "%matplotlib inline"
   ]
  },
  {
   "cell_type": "code",
   "execution_count": 2,
   "metadata": {},
   "outputs": [],
   "source": [
    "# Set a few configuration parameters.\n",
    "img_height = 300 # Height of the input images\n",
    "img_width = 480 # Width of the input images\n",
    "img_channels = 3 # Number of color channels of the input images\n",
    "swap_channels = [2, 1, 0] # The color channel order in the original SSD is BGR, so we'll have the model reverse the color channel order of the input images.\n",
    "intensity_mean = 127.5 # Set this to your preference (maybe `None`). The current settings transform the input pixel values to the interval `[-1,1]`.\n",
    "intensity_range = 127.5 # Set this to your preference (maybe `None`). The current settings transform the input pixel values to the interval `[-1,1]`.\n",
    "n_classes = 1 # Number of positive classes\n",
    "scales = [0.08, 0.16, 0.32, 0.64, 0.96] # An explicit list of anchor box scaling factors. If this is passed, it will override `min_scale` and `max_scale`.\n",
    "aspect_ratios = [0.5, 1.0, 2.0] # The list of aspect ratios for the anchor boxes\n",
    "two_boxes_for_ar1 = True # Whether or not you want to generate two anchor boxes for aspect ratio 1\n",
    "steps = None # In case you'd like to set the step sizes for the anchor box grids manually; not recommended\n",
    "offsets = None # In case you'd like to set the offsets for the anchor box grids manually; not recommended\n",
    "clip_boxes = False # Whether or not to clip the anchor boxes to lie entirely within the image boundaries\n",
    "variances = [1.0, 1.0, 1.0, 1.0] # The list of variances by which the encoded target coordinates are scaled\n",
    "normalize_coords = True # Whether or not the model is supposed to use coordinates relative to the image size"
   ]
  },
  {
   "cell_type": "markdown",
   "metadata": {},
   "source": [
    "## 1. Load a trained SSD\n",
    "\n",
    "Either load a trained model or build a model and load trained weights into it. Since the HDF5 files I'm providing contain only the weights for the various SSD versions, not the complete models, you'll have to go with the latter option when using this implementation for the first time. You can then of course save the model and next time load the full model directly, without having to build it.\n",
    "\n",
    "You can find the download links to all the trained model weights in the README."
   ]
  },
  {
   "cell_type": "markdown",
   "metadata": {},
   "source": [
    "### 1.1. Build the model and load trained weights into it"
   ]
  },
  {
   "cell_type": "code",
   "execution_count": 3,
   "metadata": {},
   "outputs": [
    {
     "name": "stdout",
     "output_type": "stream",
     "text": [
      "WARNING:tensorflow:From /home/email_ni_henri/anaconda3/envs/tfkeras15/lib/python3.6/site-packages/tensorflow_core/python/ops/resource_variable_ops.py:1630: calling BaseResourceVariable.__init__ (from tensorflow.python.ops.resource_variable_ops) with constraint is deprecated and will be removed in a future version.\n",
      "Instructions for updating:\n",
      "If using Keras pass *_constraint arguments to layers.\n",
      "WARNING:tensorflow:From /home/email_ni_henri/projects/ssd_keras/ssd_keras/keras_layers/tensorflow_keras_layer_DecodeDetections.py:173: to_float (from tensorflow.python.ops.math_ops) is deprecated and will be removed in a future version.\n",
      "Instructions for updating:\n",
      "Use `tf.cast` instead.\n",
      "WARNING:tensorflow:From /home/email_ni_henri/anaconda3/envs/tfkeras15/lib/python3.6/site-packages/tensorflow_core/python/ops/array_ops.py:1475: where (from tensorflow.python.ops.array_ops) is deprecated and will be removed in a future version.\n",
      "Instructions for updating:\n",
      "Use tf.where in 2.0, which has the same broadcast rule as np.where\n",
      "WARNING:tensorflow:From /home/email_ni_henri/projects/ssd_keras/ssd_keras/keras_loss_function/keras_ssd_loss.py:95: The name tf.log is deprecated. Please use tf.math.log instead.\n",
      "\n",
      "WARNING:tensorflow:From /home/email_ni_henri/projects/ssd_keras/ssd_keras/keras_loss_function/keras_ssd_loss.py:166: to_int32 (from tensorflow.python.ops.math_ops) is deprecated and will be removed in a future version.\n",
      "Instructions for updating:\n",
      "Use `tf.cast` instead.\n"
     ]
    }
   ],
   "source": [
    "%%capture\n",
    "# 1: Build the Keras model\n",
    "\n",
    "K.clear_session() # Clear previous models from memory.\n",
    "\n",
    "model = build_model(image_size=(img_height, img_width, img_channels),\n",
    "                    n_classes=n_classes,\n",
    "                    mode='inference',\n",
    "                    l2_regularization=0.0005,\n",
    "                    scales=scales,\n",
    "                    aspect_ratios_global=aspect_ratios,\n",
    "                    aspect_ratios_per_layer=None,\n",
    "                    two_boxes_for_ar1=two_boxes_for_ar1,\n",
    "                    steps=steps,\n",
    "                    offsets=offsets,\n",
    "                    clip_boxes=clip_boxes,\n",
    "                    variances=variances,\n",
    "                    normalize_coords=normalize_coords,\n",
    "                    subtract_mean=intensity_mean,\n",
    "                    divide_by_stddev=intensity_range,\n",
    "                    swap_channels=swap_channels)\n",
    "\n",
    "# 2: Optional: Load some weights\n",
    "\n",
    "model.load_weights('./tfkeras_ssd7_voc_person/ssd7_epoch-125_loss-2.1212_val_loss-2.0415.h5', by_name=True)\n",
    "\n",
    "# 3: Instantiate an Adam optimizer and the SSD loss function and compile the model\n",
    "\n",
    "adam = Adam(lr=0.001, beta_1=0.9, beta_2=0.999, epsilon=1e-08, decay=0.0)\n",
    "\n",
    "ssd_loss = SSDLoss(neg_pos_ratio=3, alpha=1.0)\n",
    "\n",
    "model.compile(optimizer=adam, loss=ssd_loss.compute_loss)"
   ]
  },
  {
   "cell_type": "markdown",
   "metadata": {},
   "source": [
    "Or"
   ]
  },
  {
   "cell_type": "markdown",
   "metadata": {},
   "source": [
    "### 1.2. Load a trained model\n",
    "\n",
    "We set `model_mode` to 'inference' above, so the evaluator expects that you load a model that was built in 'inference' mode. If you're loading a model that was built in 'training' mode, change the `model_mode` parameter accordingly."
   ]
  },
  {
   "cell_type": "code",
   "execution_count": 3,
   "metadata": {
    "collapsed": true,
    "jupyter": {
     "outputs_hidden": true
    }
   },
   "outputs": [
    {
     "name": "stdout",
     "output_type": "stream",
     "text": [
      "WARNING:tensorflow:From /home/henri_tomas/miniconda3/envs/keras1/lib/python3.6/site-packages/tensorflow/python/framework/op_def_library.py:263: colocate_with (from tensorflow.python.framework.ops) is deprecated and will be removed in a future version.\n",
      "Instructions for updating:\n",
      "Colocations handled automatically by placer.\n",
      "WARNING:tensorflow:From /home/henri_tomas/projects/ssd-keras/keras_loss_function/keras_ssd_loss.py:133: to_float (from tensorflow.python.ops.math_ops) is deprecated and will be removed in a future version.\n",
      "Instructions for updating:\n",
      "Use tf.cast instead.\n",
      "WARNING:tensorflow:From /home/henri_tomas/projects/ssd-keras/keras_loss_function/keras_ssd_loss.py:166: to_int32 (from tensorflow.python.ops.math_ops) is deprecated and will be removed in a future version.\n",
      "Instructions for updating:\n",
      "Use tf.cast instead.\n",
      "WARNING:tensorflow:From /home/henri_tomas/miniconda3/envs/keras1/lib/python3.6/site-packages/tensorflow/python/ops/math_grad.py:102: div (from tensorflow.python.ops.math_ops) is deprecated and will be removed in a future version.\n",
      "Instructions for updating:\n",
      "Deprecated in favor of operator or tf.math.divide.\n"
     ]
    }
   ],
   "source": [
    "# TODO: Set the path to the `.h5` file of the model to be loaded.\n",
    "model_path = './ssd7_voc_person/ssd7_epoch-122_loss-2.0452_val_loss-1.9801.h5'\n",
    "\n",
    "# We need to create an SSDLoss object in order to pass that to the model loader.\n",
    "ssd_loss = SSDLoss(neg_pos_ratio=3, alpha=1.0)\n",
    "\n",
    "K.clear_session() # Clear previous models from memory.\n",
    "\n",
    "model = load_model(model_path, custom_objects={'AnchorBoxes': AnchorBoxes,\n",
    "                                               'L2Normalization': L2Normalization,\n",
    "                                               'DecodeDetections': DecodeDetections,\n",
    "                                               'compute_loss': ssd_loss.compute_loss})"
   ]
  },
  {
   "cell_type": "markdown",
   "metadata": {},
   "source": [
    "## 2. Create a data generator for the evaluation dataset\n",
    "\n",
    "Instantiate a `DataGenerator` that will serve the evaluation dataset during the prediction phase."
   ]
  },
  {
   "cell_type": "code",
   "execution_count": 4,
   "metadata": {},
   "outputs": [
    {
     "name": "stdout",
     "output_type": "stream",
     "text": [
      "Loading labels: 100%|██████████| 2007/2007 [00:00<00:00, 2589.62it/s]\n",
      "Loading image IDs: 100%|██████████| 2007/2007 [00:00<00:00, 5762.44it/s]\n"
     ]
    }
   ],
   "source": [
    "dataset = DataGenerator(load_images_into_memory=False, hdf5_dataset_path='./dataset_hdf5/voc7-12_person_test.h5')\n",
    "\n",
    "# The XML parser needs to now what object class names to look for and in which order to map them to integers.\n",
    "classes = ['background','person']"
   ]
  },
  {
   "cell_type": "markdown",
   "metadata": {},
   "source": [
    "## 3. Run the evaluation\n",
    "\n",
    "Now that we have instantiated a model and a data generator to serve the dataset, we can set up the evaluator and run the evaluation.\n",
    "\n",
    "The evaluator is quite flexible: It can compute the average precisions according to the Pascal VOC pre-2010 algorithm, which samples 11 equidistant points of the precision-recall curves, or according to the Pascal VOC post-2010 algorithm, which integrates numerically over the entire precision-recall curves instead of sampling a few individual points. You could also change the number of sampled recall points or the required IoU overlap for a prediction to be considered a true positive, among other things. Check out the `Evaluator`'s documentation for details on all the arguments.\n",
    "\n",
    "In its default settings, the evaluator's algorithm is identical to the official Pascal VOC pre-2010 Matlab detection evaluation algorithm, so you don't really need to tweak anything unless you want to.\n",
    "\n",
    "The evaluator roughly performs the following steps: It runs predictions over the entire given dataset, then it matches these predictions to the ground truth boxes, then it computes the precision-recall curves for each class, then it samples 11 equidistant points from these precision-recall curves to compute the average precision for each class, and finally it computes the mean average precision over all classes."
   ]
  },
  {
   "cell_type": "code",
   "execution_count": 5,
   "metadata": {},
   "outputs": [
    {
     "name": "stdout",
     "output_type": "stream",
     "text": [
      "Number of images in the evaluation dataset: 2007\n",
      "\n",
      "Producing predictions batch-wise: 100%|██████████| 251/251 [00:49<00:00,  5.11it/s]\n",
      "Matching predictions to ground truth, class 1/1.: 100%|██████████| 401400/401400 [00:41<00:00, 9699.53it/s] \n",
      "Computing precisions and recalls, class 1/1\n",
      "Computing average precision, class 1/1\n"
     ]
    }
   ],
   "source": [
    "model_mode = 'inference'\n",
    "\n",
    "evaluator = Evaluator(model=model,\n",
    "                      n_classes=n_classes,\n",
    "                      data_generator=dataset,\n",
    "                      model_mode=model_mode)\n",
    "\n",
    "results = evaluator(img_height=img_height,\n",
    "                    img_width=img_width,\n",
    "                    #batch_size=8,\n",
    "                    batch_size=8,\n",
    "                    data_generator_mode='resize',\n",
    "                    round_confidences=False,\n",
    "                    matching_iou_threshold=0.5,\n",
    "                    border_pixels='include',\n",
    "                    sorting_algorithm='quicksort',\n",
    "                    average_precision_mode='sample',\n",
    "                    num_recall_points=11,\n",
    "                    ignore_neutral_boxes=True,\n",
    "                    return_precisions=True,\n",
    "                    return_recalls=True,\n",
    "                    return_average_precisions=True,\n",
    "                    verbose=True)\n",
    "\n",
    "mean_average_precision, average_precisions, precisions, recalls = results"
   ]
  },
  {
   "cell_type": "markdown",
   "metadata": {},
   "source": [
    "## 4. Visualize the results\n",
    "\n",
    "Let's take a look:"
   ]
  },
  {
   "cell_type": "code",
   "execution_count": 7,
   "metadata": {},
   "outputs": [
    {
     "name": "stdout",
     "output_type": "stream",
     "text": [
      "person        AP    0.467\n",
      "\n",
      "              mAP   0.467\n"
     ]
    }
   ],
   "source": [
    "for i in range(1, len(average_precisions)):\n",
    "    print(\"{:<14}{:<6}{}\".format(classes[i], 'AP', round(average_precisions[i], 3)))\n",
    "print()\n",
    "print(\"{:<14}{:<6}{}\".format('','mAP', round(mean_average_precision, 3)))"
   ]
  },
  {
   "cell_type": "code",
   "execution_count": 4,
   "metadata": {},
   "outputs": [
    {
     "name": "stdout",
     "output_type": "stream",
     "text": [
      "+model stats-------------------------------------------------------------------------------------+\n",
      "| Layer                       Input prec.                 Outputs  # 32-bit  Memory  32-bit MACs |\n",
      "|                                   (bit)                               x 1    (kB)              |\n",
      "+------------------------------------------------------------------------------------------------+\n",
      "| input_1                               -  ((None, 300, 480, 3),)         0       0            ? |\n",
      "| identity_layer                        -       (-1, 300, 480, 3)         0       0            ? |\n",
      "| input_mean_normalization              -       (-1, 300, 480, 3)         0       0            ? |\n",
      "| input_stddev_normalization            -       (-1, 300, 480, 3)         0       0            ? |\n",
      "| conv1                                 -      (-1, 300, 480, 32)      2432    9.50    345600000 |\n",
      "| bn1                                   -      (-1, 300, 480, 32)        64    0.25            0 |\n",
      "| elu1                                  -      (-1, 300, 480, 32)         0       0            ? |\n",
      "| pool1                                 -      (-1, 150, 240, 32)         0       0            0 |\n",
      "| conv2                                 -      (-1, 150, 240, 48)     13872   54.19    497664000 |\n",
      "| bn2                                   -      (-1, 150, 240, 48)        96    0.38            0 |\n",
      "| elu2                                  -      (-1, 150, 240, 48)         0       0            ? |\n",
      "| pool2                                 -       (-1, 75, 120, 48)         0       0            0 |\n",
      "| conv3                                 -       (-1, 75, 120, 64)     27712  108.25    248832000 |\n",
      "| bn3                                   -       (-1, 75, 120, 64)       128    0.50            0 |\n",
      "| elu3                                  -       (-1, 75, 120, 64)         0       0            ? |\n",
      "| pool3                                 -        (-1, 37, 60, 64)         0       0            0 |\n",
      "| conv4                                 -        (-1, 37, 60, 64)     36928  144.25     81838080 |\n",
      "| bn4                                   -        (-1, 37, 60, 64)       128    0.50            0 |\n",
      "| elu4                                  -        (-1, 37, 60, 64)         0       0            ? |\n",
      "| pool4                                 -        (-1, 18, 30, 64)         0       0            0 |\n",
      "| conv5                                 -        (-1, 18, 30, 48)     27696  108.19     14929920 |\n",
      "| bn5                                   -        (-1, 18, 30, 48)        96    0.38            0 |\n",
      "| elu5                                  -        (-1, 18, 30, 48)         0       0            ? |\n",
      "| pool5                                 -         (-1, 9, 15, 48)         0       0            0 |\n",
      "| conv6                                 -         (-1, 9, 15, 48)     20784   81.19      2799360 |\n",
      "| bn6                                   -         (-1, 9, 15, 48)        96    0.38            0 |\n",
      "| elu6                                  -         (-1, 9, 15, 48)         0       0            ? |\n",
      "| pool6                                 -          (-1, 4, 7, 48)         0       0            0 |\n",
      "| conv7                                 -          (-1, 4, 7, 32)     13856   54.12       387072 |\n",
      "| bn7                                   -          (-1, 4, 7, 32)        64    0.25            0 |\n",
      "| elu7                                  -          (-1, 4, 7, 32)         0       0            ? |\n",
      "| classes4                              -         (-1, 37, 60, 8)      4616   18.03     10229760 |\n",
      "| classes5                              -         (-1, 18, 30, 8)      3464   13.53      1866240 |\n",
      "| classes6                              -          (-1, 9, 15, 8)      3464   13.53       466560 |\n",
      "| classes7                              -           (-1, 4, 7, 8)      2312    9.03        64512 |\n",
      "| boxes4                                -        (-1, 37, 60, 16)      9232   36.06     20459520 |\n",
      "| boxes5                                -        (-1, 18, 30, 16)      6928   27.06      3732480 |\n",
      "| boxes6                                -         (-1, 9, 15, 16)      6928   27.06       933120 |\n",
      "| boxes7                                -          (-1, 4, 7, 16)      4624   18.06       129024 |\n",
      "| classes4_reshape                      -           (-1, 8880, 2)         0       0            ? |\n",
      "| classes5_reshape                      -           (-1, 2160, 2)         0       0            ? |\n",
      "| classes6_reshape                      -            (-1, 540, 2)         0       0            ? |\n",
      "| classes7_reshape                      -            (-1, 112, 2)         0       0            ? |\n",
      "| anchors4                              -      (-1, 37, 60, 4, 8)         0       0            ? |\n",
      "| anchors5                              -      (-1, 18, 30, 4, 8)         0       0            ? |\n",
      "| anchors6                              -       (-1, 9, 15, 4, 8)         0       0            ? |\n",
      "| anchors7                              -        (-1, 4, 7, 4, 8)         0       0            ? |\n",
      "| classes_concat                        -          (-1, 11692, 2)         0       0            ? |\n",
      "| boxes4_reshape                        -           (-1, 8880, 4)         0       0            ? |\n",
      "| boxes5_reshape                        -           (-1, 2160, 4)         0       0            ? |\n",
      "| boxes6_reshape                        -            (-1, 540, 4)         0       0            ? |\n",
      "| boxes7_reshape                        -            (-1, 112, 4)         0       0            ? |\n",
      "| anchors4_reshape                      -           (-1, 8880, 8)         0       0            ? |\n",
      "| anchors5_reshape                      -           (-1, 2160, 8)         0       0            ? |\n",
      "| anchors6_reshape                      -            (-1, 540, 8)         0       0            ? |\n",
      "| anchors7_reshape                      -            (-1, 112, 8)         0       0            ? |\n",
      "| classes_softmax                       -          (-1, 11692, 2)         0       0            ? |\n",
      "| boxes_concat                          -          (-1, 11692, 4)         0       0            ? |\n",
      "| anchors_concat                        -          (-1, 11692, 8)         0       0            ? |\n",
      "| predictions                           -         (-1, 11692, 14)         0       0            ? |\n",
      "| decoded_predictions                   -            (-1, 200, 6)         0       0            ? |\n",
      "+------------------------------------------------------------------------------------------------+\n",
      "| Total                                                              185520  724.69   1229931648 |\n",
      "+------------------------------------------------------------------------------------------------+\n",
      "+model summary------------------------------+\n",
      "| Total params                   186 k      |\n",
      "| Trainable params               185 k      |\n",
      "| Non-trainable params           672        |\n",
      "| Model size                     724.69 KiB |\n",
      "| Model size (8-bit FP weights)  181.17 KiB |\n",
      "| Float-32 Equivalent            724.69 KiB |\n",
      "| Compression Ratio of Memory    1.00       |\n",
      "| Number of MACs                 1.23 B     |\n",
      "+-------------------------------------------+\n"
     ]
    }
   ],
   "source": [
    "# Model Summary\n",
    "lq.models.summary(model)"
   ]
  },
  {
   "cell_type": "code",
   "execution_count": 8,
   "metadata": {},
   "outputs": [
    {
     "data": {
      "image/png": "[encoded data removed]",
      "text/plain": [
       "<Figure size 1152x1152 with 4 Axes>"
      ]
     },
     "metadata": {
      "needs_background": "light"
     },
     "output_type": "display_data"
    }
   ],
   "source": [
    "m = max((n_classes + 1) // 2, 2)\n",
    "n = 2\n",
    "\n",
    "fig, cells = plt.subplots(m, n, figsize=(n*8,m*8))\n",
    "for i in range(m):\n",
    "    for j in range(n):\n",
    "        if n*i+j+1 > n_classes: break\n",
    "        cells[i, j].plot(recalls[n*i+j+1], precisions[n*i+j+1], color='blue', linewidth=1.0)\n",
    "        cells[i, j].set_xlabel('recall', fontsize=14)\n",
    "        cells[i, j].set_ylabel('precision', fontsize=14)\n",
    "        cells[i, j].grid(True)\n",
    "        cells[i, j].set_xticks(np.linspace(0,1,11))\n",
    "        cells[i, j].set_yticks(np.linspace(0,1,11))\n",
    "        cells[i, j].set_title(\"{}, AP: {:.3f}\".format(classes[n*i+j+1], average_precisions[n*i+j+1]), fontsize=16)"
   ]
  },
  {
   "cell_type": "markdown",
   "metadata": {},
   "source": [
    "## 5. Advanced use\n",
    "\n",
    "`Evaluator` objects maintain copies of all relevant intermediate results like predictions, precisions and recalls, etc., so in case you want to experiment with different parameters, e.g. different IoU overlaps, there is no need to compute the predictions all over again every time you make a change to a parameter. Instead, you can only update the computation from the point that is affected onwards.\n",
    "\n",
    "The evaluator's `__call__()` method is just a convenience wrapper that executes its other methods in the correct order. You could just call any of these other methods individually as shown below (but you have to make sure to call them in the correct order).\n",
    "\n",
    "Note that the example below uses the same evaluator object as above. Say you wanted to compute the Pascal VOC post-2010 'integrate' version of the average precisions instead of the pre-2010 version computed above. The evaluator object still has an internal copy of all the predictions, and since computing the predictions makes up the vast majority of the overall computation time and since the predictions aren't affected by changing the average precision computation mode, we skip computing the predictions again and instead only compute the steps that come after the prediction phase of the evaluation. We could even skip the matching part, since it isn't affected by changing the average precision mode either. In fact, we would only have to call `compute_average_precisions()` `compute_mean_average_precision()` again, but for the sake of illustration we'll re-do the other computations, too."
   ]
  },
  {
   "cell_type": "code",
   "execution_count": 12,
   "metadata": {},
   "outputs": [
    {
     "name": "stdout",
     "output_type": "stream",
     "text": [
      "Matching predictions to ground truth, class 1/20.: 100%|██████████| 7902/7902 [00:00<00:00, 19849.68it/s]\n",
      "Matching predictions to ground truth, class 2/20.: 100%|██████████| 4276/4276 [00:00<00:00, 21798.36it/s]\n",
      "Matching predictions to ground truth, class 3/20.: 100%|██████████| 19126/19126 [00:00<00:00, 28263.72it/s]\n",
      "Matching predictions to ground truth, class 4/20.: 100%|██████████| 25291/25291 [00:01<00:00, 20847.78it/s]\n",
      "Matching predictions to ground truth, class 5/20.: 100%|██████████| 33520/33520 [00:00<00:00, 34610.95it/s]\n",
      "Matching predictions to ground truth, class 6/20.: 100%|██████████| 4395/4395 [00:00<00:00, 23612.98it/s]\n",
      "Matching predictions to ground truth, class 7/20.: 100%|██████████| 41833/41833 [00:02<00:00, 20821.01it/s]\n",
      "Matching predictions to ground truth, class 8/20.: 100%|██████████| 2740/2740 [00:00<00:00, 25909.74it/s]\n",
      "Matching predictions to ground truth, class 9/20.: 100%|██████████| 91992/91992 [00:03<00:00, 25150.58it/s]\n",
      "Matching predictions to ground truth, class 10/20.: 100%|██████████| 4085/4085 [00:00<00:00, 22590.90it/s]\n",
      "Matching predictions to ground truth, class 11/20.: 100%|██████████| 6912/6912 [00:00<00:00, 28966.61it/s]\n",
      "Matching predictions to ground truth, class 12/20.: 100%|██████████| 4294/4294 [00:00<00:00, 23105.94it/s]\n",
      "Matching predictions to ground truth, class 13/20.: 100%|██████████| 2779/2779 [00:00<00:00, 20409.40it/s]\n",
      "Matching predictions to ground truth, class 14/20.: 100%|██████████| 3003/3003 [00:00<00:00, 17314.28it/s]\n",
      "Matching predictions to ground truth, class 15/20.: 100%|██████████| 183522/183522 [00:09<00:00, 18903.68it/s]\n",
      "Matching predictions to ground truth, class 16/20.: 100%|██████████| 35198/35198 [00:01<00:00, 26489.65it/s]\n",
      "Matching predictions to ground truth, class 17/20.: 100%|██████████| 10535/10535 [00:00<00:00, 28867.54it/s]\n",
      "Matching predictions to ground truth, class 18/20.: 100%|██████████| 4371/4371 [00:00<00:00, 22087.65it/s]\n",
      "Matching predictions to ground truth, class 19/20.: 100%|██████████| 5768/5768 [00:00<00:00, 17063.02it/s]\n",
      "Matching predictions to ground truth, class 20/20.: 100%|██████████| 10860/10860 [00:00<00:00, 25999.09it/s]\n",
      "Computing precisions and recalls, class 1/20\n",
      "Computing precisions and recalls, class 2/20\n",
      "Computing precisions and recalls, class 3/20\n",
      "Computing precisions and recalls, class 4/20\n",
      "Computing precisions and recalls, class 5/20\n",
      "Computing precisions and recalls, class 6/20\n",
      "Computing precisions and recalls, class 7/20\n",
      "Computing precisions and recalls, class 8/20\n",
      "Computing precisions and recalls, class 9/20\n",
      "Computing precisions and recalls, class 10/20\n",
      "Computing precisions and recalls, class 11/20\n",
      "Computing precisions and recalls, class 12/20\n",
      "Computing precisions and recalls, class 13/20\n",
      "Computing precisions and recalls, class 14/20\n",
      "Computing precisions and recalls, class 15/20\n",
      "Computing precisions and recalls, class 16/20\n",
      "Computing precisions and recalls, class 17/20\n",
      "Computing precisions and recalls, class 18/20\n",
      "Computing precisions and recalls, class 19/20\n",
      "Computing precisions and recalls, class 20/20\n",
      "Computing average precision, class 1/20\n",
      "Computing average precision, class 2/20\n",
      "Computing average precision, class 3/20\n",
      "Computing average precision, class 4/20\n",
      "Computing average precision, class 5/20\n",
      "Computing average precision, class 6/20\n",
      "Computing average precision, class 7/20\n",
      "Computing average precision, class 8/20\n",
      "Computing average precision, class 9/20\n",
      "Computing average precision, class 10/20\n",
      "Computing average precision, class 11/20\n",
      "Computing average precision, class 12/20\n",
      "Computing average precision, class 13/20\n",
      "Computing average precision, class 14/20\n",
      "Computing average precision, class 15/20\n",
      "Computing average precision, class 16/20\n",
      "Computing average precision, class 17/20\n",
      "Computing average precision, class 18/20\n",
      "Computing average precision, class 19/20\n",
      "Computing average precision, class 20/20\n"
     ]
    }
   ],
   "source": [
    "evaluator.get_num_gt_per_class(ignore_neutral_boxes=True,\n",
    "                               verbose=False,\n",
    "                               ret=False)\n",
    "\n",
    "evaluator.match_predictions(ignore_neutral_boxes=True,\n",
    "                            matching_iou_threshold=0.5,\n",
    "                            border_pixels='include',\n",
    "                            sorting_algorithm='quicksort',\n",
    "                            verbose=True,\n",
    "                            ret=False)\n",
    "\n",
    "precisions, recalls = evaluator.compute_precision_recall(verbose=True, ret=True)\n",
    "\n",
    "average_precisions = evaluator.compute_average_precisions(mode='integrate',\n",
    "                                                          num_recall_points=11,\n",
    "                                                          verbose=True,\n",
    "                                                          ret=True)\n",
    "\n",
    "mean_average_precision = evaluator.compute_mean_average_precision(ret=True)"
   ]
  },
  {
   "cell_type": "code",
   "execution_count": 17,
   "metadata": {},
   "outputs": [
    {
     "name": "stdout",
     "output_type": "stream",
     "text": [
      "aeroplane     AP    0.822\n",
      "bicycle       AP    0.874\n",
      "bird          AP    0.787\n",
      "boat          AP    0.713\n",
      "bottle        AP    0.505\n",
      "bus           AP    0.899\n",
      "car           AP    0.89\n",
      "cat           AP    0.923\n",
      "chair         AP    0.61\n",
      "cow           AP    0.845\n",
      "diningtable   AP    0.79\n",
      "dog           AP    0.899\n",
      "horse         AP    0.903\n",
      "motorbike     AP    0.875\n",
      "person        AP    0.825\n",
      "pottedplant   AP    0.526\n",
      "sheep         AP    0.811\n",
      "sofa          AP    0.83\n",
      "train         AP    0.906\n",
      "tvmonitor     AP    0.797\n",
      "\n",
      "              mAP   0.802\n"
     ]
    }
   ],
   "source": [
    "for i in range(1, len(average_precisions)):\n",
    "    print(\"{:<14}{:<6}{}\".format(classes[i], 'AP', round(average_precisions[i], 3)))\n",
    "print()\n",
    "print(\"{:<14}{:<6}{}\".format('','mAP', round(mean_average_precision, 3)))"
   ]
  }
 ],
 "metadata": {
  "kernelspec": {
   "display_name": "tf115",
   "language": "python",
   "name": "tf115"
  },
  "language_info": {
   "codemirror_mode": {
    "name": "ipython",
    "version": 3
   },
   "file_extension": ".py",
   "mimetype": "text/x-python",
   "name": "python",
   "nbconvert_exporter": "python",
   "pygments_lexer": "ipython3",
   "version": "3.6.10"
  }
 },
 "nbformat": 4,
 "nbformat_minor": 4
}
